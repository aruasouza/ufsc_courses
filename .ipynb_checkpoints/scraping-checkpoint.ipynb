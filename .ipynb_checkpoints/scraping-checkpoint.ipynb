{
 "cells": [
  {
   "cell_type": "code",
   "execution_count": 14,
   "id": "c075434c-cfb7-4da3-b736-ea5357b64758",
   "metadata": {},
   "outputs": [],
   "source": [
    "from bs4 import BeautifulSoup\n",
    "import requests\n",
    "import pandas as pd"
   ]
  },
  {
   "cell_type": "code",
   "execution_count": 15,
   "id": "cc110580-31ba-4d05-bcba-07a92863bee3",
   "metadata": {},
   "outputs": [],
   "source": [
    "url = 'https://processoseletivo20212.ufsc.br/guia-de-cursos/'\n",
    "html_text = requests.get(url).text"
   ]
  },
  {
   "cell_type": "code",
   "execution_count": 16,
   "id": "81e3b901-786f-4f75-b1be-0f466a436e9e",
   "metadata": {},
   "outputs": [],
   "source": [
    "soup = BeautifulSoup(html_text,'lxml')\n",
    "tags = soup.find_all('tr',class_=['even','odd'])"
   ]
  },
  {
   "cell_type": "code",
   "execution_count": 17,
   "id": "fdd45cd9-f656-4b07-8a4a-e4725cf68948",
   "metadata": {},
   "outputs": [],
   "source": [
    "#cursos = dict()\n",
    "cursos_list = []\n",
    "cidades_list = []\n",
    "links_list = []\n",
    "data = dict()\n",
    "for tag in tags:\n",
    "    try:\n",
    "        curso = str(tag.td.a.text)\n",
    "        cidade = str(tag.find(class_=\"column-2\").text)\n",
    "        index = curso.find(cidade)\n",
    "        if index != -1:\n",
    "            curso = curso[:index - 3]\n",
    "        sub_dom = tag.find(class_=\"column-3\").a['href']\n",
    "        barra_index = url.find('/',9)\n",
    "        link = url[:barra_index] + str(sub_dom)\n",
    "        #if curso in cursos:\n",
    "        #    cursos[curso]['cidades'][cidade] = link\n",
    "        #else:\n",
    "        #    dic1 = {cidade:link}\n",
    "        #    dic2 = {'cidades':dic1}\n",
    "        #    cursos[curso] = dic2\n",
    "        cursos_list.append(curso)\n",
    "        cidades_list.append(cidade)\n",
    "        links_list.append(link)\n",
    "    except AttributeError:\n",
    "        pass\n",
    "data = {'Curso':cursos_list,'Cidade':cidades_list,'Link':links_list}"
   ]
  },
  {
   "cell_type": "code",
   "execution_count": 18,
   "id": "e2487a83-df14-4c14-9a7e-d481347bf99a",
   "metadata": {},
   "outputs": [],
   "source": [
    "df = pd.DataFrame(data)"
   ]
  },
  {
   "cell_type": "code",
   "execution_count": 19,
   "id": "cd9a55cf-009f-4004-8202-fa486bc2ec4d",
   "metadata": {},
   "outputs": [],
   "source": [
    "df.to_excel('Cursos_UFSC.xlsx',index=False)"
   ]
  }
 ],
 "metadata": {
  "kernelspec": {
   "display_name": "Python 3 (ipykernel)",
   "language": "python",
   "name": "python3"
  },
  "language_info": {
   "codemirror_mode": {
    "name": "ipython",
    "version": 3
   },
   "file_extension": ".py",
   "mimetype": "text/x-python",
   "name": "python",
   "nbconvert_exporter": "python",
   "pygments_lexer": "ipython3",
   "version": "3.7.11"
  }
 },
 "nbformat": 4,
 "nbformat_minor": 5
}
